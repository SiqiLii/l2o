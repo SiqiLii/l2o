{
 "cells": [
  {
   "cell_type": "code",
   "execution_count": 1,
   "metadata": {},
   "outputs": [],
   "source": [
    "import do_mpc\n",
    "import numpy as np\n",
    "import casadi as ca\n",
    "\n",
    "import matplotlib.pyplot as plt\n",
    "from mpl_toolkits.mplot3d import Axes3D\n",
    "from mpl_toolkits.mplot3d import art3d"
   ]
  },
  {
   "cell_type": "code",
   "execution_count": 2,
   "metadata": {},
   "outputs": [],
   "source": [
    "# Parameters\n",
    "# obstacle\n",
    "x_obs = 0.5*np.ones(3)\n",
    "r_obs = 0.1\n",
    "# timestep\n",
    "dt = 0.1"
   ]
  },
  {
   "cell_type": "code",
   "execution_count": 3,
   "metadata": {},
   "outputs": [],
   "source": [
    "model_type = 'discrete' # either 'discrete' or 'continuous'\n",
    "model = do_mpc.model.Model(model_type)"
   ]
  },
  {
   "cell_type": "code",
   "execution_count": 4,
   "metadata": {},
   "outputs": [],
   "source": [
    "# position (x, y, z)\n",
    "x = model.set_variable(var_type='_x', var_name='x', shape=(3,1))\n",
    "# pose (psi around z axis)\n",
    "psi = model.set_variable(var_type='_x', var_name='psi', shape=(1,1))\n",
    "# velocity (dx, dy, dz)\n",
    "dx = model.set_variable(var_type='_x', var_name='dx', shape=(3,1))\n",
    "# pose velocity\n",
    "dpsi = model.set_variable(var_type='_x', var_name='dpsi', shape=(1,1))\n",
    "# controls (u1, u2, u3)\n",
    "u = model.set_variable(var_type='_u', var_name='u', shape=(3,1))\n",
    "u_psi = model.set_variable(var_type='_u', var_name='u_psi', shape=(1,1))\n",
    "# obstacle postion\n",
    "x_obs_p = model.set_variable(var_type='_p', var_name='x_obs_p', shape=(3,1))"
   ]
  },
  {
   "cell_type": "code",
   "execution_count": 5,
   "metadata": {},
   "outputs": [],
   "source": [
    "# system dynamics\n",
    "model.set_rhs('x', x + dx * dt)\n",
    "model.set_rhs('psi', psi + dpsi * dt)\n",
    "model.set_rhs('dx', u)\n",
    "model.set_rhs('dpsi', u_psi)\n",
    "\n",
    "# setup model\n",
    "model.setup()\n",
    "\n",
    "# init mpc model\n",
    "mpc = do_mpc.controller.MPC(model)\n",
    "\n",
    "setup_mpc = {\n",
    "    'n_horizon': 20,\n",
    "    't_step': dt,\n",
    "    'store_full_solution': True,\n",
    "}\n",
    "\n",
    "mpc.set_param(**setup_mpc)\n",
    "mpc.settings.supress_ipopt_output() # => verbose = False\n",
    "\n",
    "# set parameter values\n",
    "mpc.set_uncertainty_values(\n",
    "  x_obs_p = x_obs\n",
    ")"
   ]
  },
  {
   "cell_type": "code",
   "execution_count": 6,
   "metadata": {},
   "outputs": [],
   "source": [
    "# set objective fuction\n",
    "x_d = np.array([1., 1., 1.]) # desired position\n",
    "# stage and terminal cost\n",
    "mterm = ca.norm_2(x - x_d)\n",
    "lterm = mterm\n",
    "# state objective\n",
    "mpc.set_objective(mterm=mterm, lterm=lterm)\n",
    "# input objective\n",
    "mpc.set_rterm(u=1.)"
   ]
  },
  {
   "cell_type": "code",
   "execution_count": 7,
   "metadata": {},
   "outputs": [
    {
     "data": {
      "text/plain": [
       "SX(@1=(x_0-x_obs_p_0), @2=(x_1-x_obs_p_1), (-sqrt(((sq(((cos(psi)*@1)-(sin(psi)*@2)))+sq(((sin(psi)*@1)+(cos(psi)*@2))))+sq((x_2-x_obs_p_2))))))"
      ]
     },
     "execution_count": 7,
     "metadata": {},
     "output_type": "execute_result"
    }
   ],
   "source": [
    "# constraints\n",
    "mpc.bounds['upper','_u', 'u'] = 0.5 * np.ones((3, 1))   # input upper bound\n",
    "mpc.bounds['lower','_u', 'u'] = -0.5 * np.ones((3, 1))  # input lower bound\n",
    "mpc.bounds['upper','_u', 'u_psi'] = np.pi * np.ones((1, 1))   # input upper bound\n",
    "mpc.bounds['lower','_u', 'u_psi'] = -np.pi * np.ones((1, 1))  # input lower bound\n",
    "\n",
    "mpc.bounds['upper','_x', 'psi'] = np.pi * np.ones((1, 1))   # input upper bound\n",
    "mpc.bounds['lower','_x', 'psi'] = -np.pi * np.ones((1, 1))  # input lower bound\n",
    "\n",
    "# collision avoidance constraint\n",
    "R = np.array([\n",
    "  [ca.cos(psi), -ca.sin(psi), 0],\n",
    "  [ca.sin(psi), ca.cos(psi), 0],\n",
    "  [0, 0, 1]\n",
    "])\n",
    "d_obs = ca.norm_2(R@(x - x_obs_p))\n",
    "mpc.set_nl_cons('d_obs', expr=-d_obs, ub=-r_obs, soft_constraint=True, penalty_term_cons=1e6)"
   ]
  },
  {
   "cell_type": "code",
   "execution_count": 8,
   "metadata": {},
   "outputs": [],
   "source": [
    "# setup MPC problem\n",
    "mpc.setup()\n",
    "# initialize MPC problem\n",
    "x0 = np.zeros((8,))\n",
    "mpc.x0 = x0\n",
    "# compute initial guess (important)\n",
    "mpc.set_initial_guess()"
   ]
  },
  {
   "cell_type": "code",
   "execution_count": 9,
   "metadata": {},
   "outputs": [],
   "source": [
    "# solve mpc at state x0\n",
    "u0 = mpc.make_step(x0)"
   ]
  },
  {
   "cell_type": "code",
   "execution_count": 16,
   "metadata": {},
   "outputs": [
    {
     "name": "stdout",
     "output_type": "stream",
     "text": [
      "[[0.49995937]\n",
      " [0.33996587]\n",
      " [0.49995937]\n",
      " [0.        ]]\n",
      "[-1.04949e-35, 1.1407e-33, 8.93441e-36, 0, 0.499959, 0.339966, 0.499959, 0]\n"
     ]
    }
   ],
   "source": [
    "print(u0)\n",
    "print(mpc.opt_x_num['_x', :, 0, 0][1])"
   ]
  },
  {
   "cell_type": "code",
   "execution_count": null,
   "metadata": {},
   "outputs": [],
   "source": [
    "# retrieve state trajectory\n",
    "x_scp = []\n",
    "for i in range(len(mpc.opt_x_num['_x', :, 0, 0])):\n",
    "  x_scp.append(mpc.opt_x_num['_x', :, 0, 0][i].toarray()[:3].squeeze())\n",
    "\n",
    "x_scp = np.array(x_scp)"
   ]
  },
  {
   "cell_type": "code",
   "execution_count": null,
   "metadata": {},
   "outputs": [],
   "source": [
    "%matplotlib widget\n",
    "# Create a 3D plot\n",
    "fig = plt.figure()\n",
    "ax = fig.add_subplot(111, projection='3d')\n",
    "ax.axis('equal')\n",
    "# Plot the trajectory\n",
    "ax.plot(x_scp[:,0], x_scp[:,1], x_scp[:,2], '.-')\n",
    "\n",
    "u = np.linspace(0, 2 * np.pi, 100)\n",
    "v = np.linspace(0, np.pi, 50)\n",
    "x_sphere = x_obs[0] + r_obs * np.outer(np.cos(u), np.sin(v))\n",
    "y_sphere = x_obs[1] + r_obs * np.outer(np.sin(u), np.sin(v))\n",
    "z_sphere = x_obs[2] + r_obs * np.outer(np.ones(np.size(u)), np.cos(v))\n",
    "sphere = ax.plot_surface(x_sphere, y_sphere, z_sphere, color='r', alpha=0.5)\n"
   ]
  }
 ],
 "metadata": {
  "kernelspec": {
   "display_name": "Python 3.9.17 ('l2o')",
   "language": "python",
   "name": "python3"
  },
  "language_info": {
   "codemirror_mode": {
    "name": "ipython",
    "version": 3
   },
   "file_extension": ".py",
   "mimetype": "text/x-python",
   "name": "python",
   "nbconvert_exporter": "python",
   "pygments_lexer": "ipython3",
   "version": "3.9.18"
  },
  "orig_nbformat": 4,
  "vscode": {
   "interpreter": {
    "hash": "0cb2ae9f228bce957c82cc761fcf8d30a4b8d8e1e0cbdddfc1883f15893facd6"
   }
  }
 },
 "nbformat": 4,
 "nbformat_minor": 2
}
